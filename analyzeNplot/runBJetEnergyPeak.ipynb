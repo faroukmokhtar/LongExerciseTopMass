{
 "cells": [
  {
   "cell_type": "markdown",
   "id": "80214914",
   "metadata": {},
   "source": [
    "# runBJetEnergyPeak.py converted to notebook\n",
    "## By Anthony Vizcaíno Aportela\n",
    "### Requires python3 and the imports below\n",
    "### If running python2, replace (or comment out) print statements and replace line 7 of `main()` function.\n",
    "\n",
    "### any place where there is a (?) means I'm not entirely sure if it's true."
   ]
  },
  {
   "cell_type": "markdown",
   "id": "82bc3fa3",
   "metadata": {},
   "source": [
    "Import statements. Some of these aren't actually used in this notebook(?) but I'm afraid to change these in case it breaks everything."
   ]
  },
  {
   "cell_type": "code",
   "execution_count": 1,
   "id": "dd9bbf74",
   "metadata": {},
   "outputs": [
    {
     "name": "stdout",
     "output_type": "stream",
     "text": [
      "Welcome to JupyROOT 6.24/06\n"
     ]
    }
   ],
   "source": [
    "import optparse\n",
    "import os, sys\n",
    "import json as js\n",
    "import pickle\n",
    "import ROOT\n",
    "from subprocess import Popen, PIPE"
   ]
  },
  {
   "cell_type": "markdown",
   "id": "e48e32dc",
   "metadata": {},
   "source": [
    "Define interesting histograms in a dictionary. The function `fillHistos()` depends heavily on this dictionary. If you edit the dictionary, make sure to edit `fillHistos()` accordingly."
   ]
  },
  {
   "cell_type": "code",
   "execution_count": 2,
   "id": "7f37f6c4",
   "metadata": {},
   "outputs": [],
   "source": [
    "histos = { \n",
    "    'nvtx'    :ROOT.TH1F('nvtx'    ,';Vertex multiplicity; Events'                  ,30,0,30),\n",
    "    'nbtags'  :ROOT.TH1F('nbtags'  ,';b-tag multiplicity; Events'                   ,5,0,5),\n",
    "    'nleptons':ROOT.TH1F('nleptons',';Lepton multiplicity; Events'                  ,5,0,5),\n",
    "    'bjeten'  :ROOT.TH1F('bjeten'  ,';Energy [GeV]; Jets'                           ,30,0,300),\n",
    "    'bmjeteta':ROOT.TH1F('bmjeteta',';#eta(b matched jet); Events'                  ,24,-2.4,2.4),\n",
    "    'lep0pt'  :ROOT.TH1F('lep0pt'  ,';Leading Lepton Transverse Momentum; Events'   ,25,0,250),\n",
    "    'lep1pt'  :ROOT.TH1F('lep1pt'  ,';Subleading Lepton Transverse Momentum; Events',20,0,200),\n",
    "    'bjeteta' :ROOT.TH1F('bjeteta' ,';#eta; Jets'                                   ,50,-3,3),\n",
    "    'bjetenls':ROOT.TH1F('bjetenls',';log(E);  1/E dN_{b jets}/dlog(E)'             ,20,3.,7.),\n",
    "    'metpt'   :ROOT.TH1F('metpt'   ,';MET [GeV]; Jets'                              ,55,0.,1100.),\n",
    "    'elpt'    :ROOT.TH1F('elpt'    ,';electron pt [GeV]; electrons'                 ,40,0.,400.),\n",
    "    'eleta'   :ROOT.TH1F('eleta'   ,';#eta; electrons'                              ,50,-3,3),\n",
    "    'mupt'    :ROOT.TH1F('mupt'    ,';muon pt [GeV]; muons'                         ,40,0.,400.),\n",
    "    'mueta'   :ROOT.TH1F('mueta'   ,';#eta; muons'                                  ,50,-3,3)\n",
    "    }"
   ]
  },
  {
   "cell_type": "markdown",
   "id": "2c32fc2e",
   "metadata": {},
   "source": [
    "Set proper weights(?) for histograms and set directory such that histograms are not erased from memory(?). Input is dictionary of histogram objects. Action is to mutate histogram objects in dictionary."
   ]
  },
  {
   "cell_type": "code",
   "execution_count": 3,
   "id": "8106fff1",
   "metadata": {},
   "outputs": [],
   "source": [
    "def histoSettings(histos):\n",
    "    for key in histos:\n",
    "        histos[key].Sumw2()\n",
    "        histos[key].SetDirectory(0)"
   ]
  },
  {
   "cell_type": "markdown",
   "id": "787f5afd",
   "metadata": {},
   "source": [
    "Open root file, get tree named 'data', and count number of entries in tree. Input is root file URL string. Action is to return file object, 'data' tree object, and number of entries."
   ]
  },
  {
   "cell_type": "code",
   "execution_count": 4,
   "id": "8ee1e2ad",
   "metadata": {},
   "outputs": [],
   "source": [
    "def treeOpener(inFileURL):\n",
    "    fIn          = ROOT.TFile.Open(inFileURL)\n",
    "    tree         = fIn.Get('data')\n",
    "    totalEntries = tree.GetEntriesFast()\n",
    "    \n",
    "    return fIn, tree, totalEntries"
   ]
  },
  {
   "cell_type": "markdown",
   "id": "8fd47ba3",
   "metadata": {},
   "source": [
    "Tests if an event has one or two B jets with the following requirements:\n",
    "* $P_{T}>$ 30\n",
    "* $\\eta<2$ .4\n",
    "* IVF $>$ .8484\n",
    "* Contains $b$ quarks(?)\n",
    "\n",
    "If it does not, then this function signals in the `mainSelectionLoop()` function to skip the rest of the loop."
   ]
  },
  {
   "cell_type": "code",
   "execution_count": 5,
   "id": "c2286cdb",
   "metadata": {},
   "outputs": [],
   "source": [
    "def twoJetReq(nJets, nBtags, tree, taggedJetsP4, matchedJetsP4):\n",
    "    for ij in range(0,tree.nJet):\n",
    "        #get the kinematics and select the jet\n",
    "        jp4 = ROOT.TLorentzVector()\n",
    "        jp4.SetPtEtaPhiM(tree.Jet_pt[ij],tree.Jet_eta[ij],tree.Jet_phi[ij],tree.Jet_mass[ij])\n",
    "        if jp4.Pt() < 30 or ROOT.TMath.Abs(jp4.Eta()) > 2.4 : continue\n",
    "\n",
    "        #count selected jet\n",
    "        nJets += 1\n",
    "\n",
    "        #save P4 for b-tagged jet\n",
    "        if tree.Jet_CombIVF[ij]>0.8484: # medium cut\n",
    "            nBtags += 1\n",
    "            taggedJetsP4.append(jp4)\n",
    "            if abs(tree.Jet_flavour[ij]) == 5:\n",
    "                matchedJetsP4.append(jp4)\n",
    "\n",
    "    if nJets < 2 : raise Exception('not enough jets!')\n",
    "    if nBtags != 1 and nBtags != 2 : raise Exception('wrong number of Btags!')\n",
    "    return nJets, nBtags"
   ]
  },
  {
   "cell_type": "markdown",
   "id": "b80ceace",
   "metadata": {},
   "source": [
    "Tests if an event has two leptons with the following requirements:\n",
    "* $P_{T}>$ 20\n",
    "* $\\eta<$ 2.4\n",
    "\n",
    "If it does not, then this function signals in the `mainSelectionLoop()` function to skip the rest of the loop."
   ]
  },
  {
   "cell_type": "code",
   "execution_count": 6,
   "id": "e5aa288f",
   "metadata": {},
   "outputs": [],
   "source": [
    "def lepReq(nLeptons, tree, leptonsP4):\n",
    "    \n",
    "    for ij in range(0,tree.nLepton):\n",
    "            \n",
    "        #get the kinematics and select the lepton      \n",
    "        lp4 = ROOT.TLorentzVector()\n",
    "        lp4.SetPtEtaPhiM(tree.Lepton_pt[ij],tree.Lepton_eta[ij],tree.Lepton_phi[ij],0)\n",
    "        if lp4.Pt()<20 or ROOT.TMath.Abs(lp4.Eta())>2.4 : continue\n",
    "\n",
    "        #count selected leptons\n",
    "            \n",
    "        nLeptons +=1\n",
    "            \n",
    "        leptonsP4.append(lp4)\n",
    "\n",
    "    if nLeptons<2 : raise Exception('not enough leptons!')\n",
    "    return nLeptons"
   ]
  },
  {
   "cell_type": "markdown",
   "id": "f2f1c666",
   "metadata": {},
   "source": [
    "Generator level weight for MC"
   ]
  },
  {
   "cell_type": "code",
   "execution_count": 7,
   "id": "b5b54cf2",
   "metadata": {},
   "outputs": [],
   "source": [
    "def wgtMut(evWgt, xsec, tree):\n",
    "    if xsec              : evWgt  = xsec*tree.LepSelEffWeights[0]*tree.PUWeights[0]\n",
    "    if tree.nGenWeight>0 : evWgt *= tree.GenWeights[0]\n",
    "    return evWgt"
   ]
  },
  {
   "cell_type": "markdown",
   "id": "ff7f32a9",
   "metadata": {},
   "source": [
    "Fill Histograms. This function depends heavily on the histos dictionary. If you edit the histos dictionary, make sure to edit this function accordingly."
   ]
  },
  {
   "cell_type": "code",
   "execution_count": 8,
   "id": "a6f2f8d8",
   "metadata": {},
   "outputs": [],
   "source": [
    "def fillHistos(nJets, nBtags, nLeptons, \n",
    "               taggedJetsP4, leptonsP4, matchedJetsP4,\n",
    "               evWgt, histos, xsec, tree):\n",
    "    \n",
    "    #ready to fill the histograms\n",
    "    histos['nvtx'].Fill(tree.nPV,evWgt)\n",
    "    histos['nbtags'].Fill(nBtags,evWgt)\n",
    "    histos['nleptons'].Fill(nLeptons,evWgt)\n",
    "    histos['metpt'].Fill(tree.MET_pt,evWgt)\n",
    "\n",
    "    #use up to two leading b-tagged jets\n",
    "    for ij in range(0,len(taggedJetsP4)):\n",
    "        if ij>1 : break\n",
    "        histos['bjeten'].Fill(taggedJetsP4[ij].E(),evWgt)\n",
    "        histos['bjetenls'].Fill(ROOT.TMath.Log(taggedJetsP4[ij].E()),evWgt/taggedJetsP4[ij].E())\n",
    "        histos['bjeteta'].Fill(taggedJetsP4[ij].Eta(),evWgt)\n",
    "\n",
    "    for ij in range(0,len(matchedJetsP4)):\n",
    "        histos['bmjeteta'].Fill(matchedJetsP4[ij].Eta(),evWgt)\n",
    "\n",
    "    for ij in range(0,len(leptonsP4)):\n",
    "        if ij>1 : break\n",
    "        lid=abs(tree.Lepton_id[ij])\n",
    "        if lid!=11 and lid!=13:\n",
    "            raise Exception(\"Wrong lepton id!\")\n",
    "\n",
    "        if ij == 0: histos['lep0pt'].Fill(leptonsP4[ij].Pt(),evWgt)\n",
    "        if ij == 1: histos['lep1pt'].Fill(leptonsP4[ij].Pt(),evWgt)\n",
    "\n",
    "        #hard-coded masses for electrons and muons\n",
    "        #lmass=0.00051 if lid==11 else 0.106\n",
    "        ltag='el' if lid==11 else 'mu'\n",
    "        histos[ltag+'pt'].Fill(leptonsP4[ij].Perp(),evWgt)\n",
    "        histos[ltag+'eta'].Fill(leptonsP4[ij].Eta(),evWgt)"
   ]
  },
  {
   "cell_type": "markdown",
   "id": "256399d8",
   "metadata": {},
   "source": [
    "Main selection loop"
   ]
  },
  {
   "cell_type": "code",
   "execution_count": 9,
   "id": "4b151d08",
   "metadata": {},
   "outputs": [],
   "source": [
    "def mainSelectionLoop(fIn, tree, totalEntries, \n",
    "                      inFileURL, outFileURL, histos, xsec):\n",
    "    for i in range(0,totalEntries):\n",
    "        tree.GetEntry(i)\n",
    "        if i%100==0 : sys.stdout.write('\\r [ %d/100 ] done' %(int(float(100.*i)/float(totalEntries))) )\n",
    "        \n",
    "        nJets, nBtags, nLeptons = 0, 0, 0\n",
    "        taggedJetsP4 = []\n",
    "        leptonsP4 = []\n",
    "        matchedJetsP4 = []            \n",
    "\n",
    "        #require at most two Btaged jets\n",
    "        try: nJets, nBtags = twoJetReq(tree, taggedJetsP4, matchedJetsP4)\n",
    "        except: continue\n",
    "               \n",
    "        #require two leptons with the right properties\n",
    "        try: nLeptons = lepReq(tree, leptonsP4)\n",
    "        except: continue\n",
    "\n",
    "        #generator level weight only for MC\n",
    "        evWgt = 1.0\n",
    "        evWgt = wgtMut(evWgt, xsec, tree)\n",
    "\n",
    "        #fill histograms\n",
    "        fillHistos(nJets, nBtags, nLeptons, \n",
    "               taggedJetsP4, leptonsP4, matchedJetsP4,\n",
    "               evWgt, histos, xsec, tree) \n",
    "\n",
    "    fIn.Close()\n"
   ]
  },
  {
   "cell_type": "markdown",
   "id": "572a7542",
   "metadata": {},
   "source": [
    "Save histograms to file"
   ]
  },
  {
   "cell_type": "code",
   "execution_count": 10,
   "id": "47bd3f80",
   "metadata": {},
   "outputs": [],
   "source": [
    "def histoSaver(outFileURL, histos):\n",
    "    fOut=ROOT.TFile.Open(outFileURL,'RECREATE')\n",
    "    for key in histos: histos[key].Write()\n",
    "    fOut.Close()"
   ]
  },
  {
   "cell_type": "markdown",
   "id": "97134eb6",
   "metadata": {},
   "source": [
    "Perform the analysis on a single file"
   ]
  },
  {
   "cell_type": "code",
   "execution_count": 11,
   "id": "a7ea0ad9",
   "metadata": {},
   "outputs": [],
   "source": [
    "def runBJetEnergyPeak(inFileURL, outFileURL, histos, xsec=None):\n",
    "\n",
    "    print('...analysing ' + inFileURL)\n",
    "\n",
    "    histoSettings(histos)\n",
    "\n",
    "    fIn, tree, totalEntries = treeOpener(inFileURL)\n",
    "    \n",
    "    mainSelectionLoop(fIn, tree, totalEntries, inFileURL, outFileURL, histos, xsec)\n",
    "\n",
    "    histoSaver(outFileURL, histos)"
   ]
  },
  {
   "cell_type": "markdown",
   "id": "e89b9171",
   "metadata": {},
   "source": [
    "For running in parallel"
   ]
  },
  {
   "cell_type": "code",
   "execution_count": 12,
   "id": "69b2b1f6",
   "metadata": {},
   "outputs": [],
   "source": [
    "def runBJetEnergyPeakPacked(args):\n",
    "      \n",
    "    try:\n",
    "        return runBJetEnergyPeak(inFileURL  = args[0],\n",
    "                                 outFileURL = args[1],\n",
    "                                 histos     = args[2],\n",
    "                                 xsec       = args[3])\n",
    "    except :\n",
    "        #print(50*'<')\n",
    "        print(\"  Problem  (%s) with %s continuing without\"%(sys.exc_info()[1],args[0]))\n",
    "        #print(50*'<')\n",
    "        return False"
   ]
  },
  {
   "cell_type": "markdown",
   "id": "cadb0c57",
   "metadata": {},
   "source": [
    "Main running function"
   ]
  },
  {
   "cell_type": "code",
   "execution_count": 13,
   "id": "e7ce8e2e",
   "metadata": {},
   "outputs": [],
   "source": [
    "def main(histos, json=None, inDir=None, outDir='analysis', njobs = 0):\n",
    "    \n",
    "    #read list of samples\n",
    "    jsonFile = open(json,'r')\n",
    "    ## replace samplesList with the following if running python2\n",
    "    #samplesList = js.load(jsonFile,encoding='utf-8').items()\n",
    "    samplesList=js.load(jsonFile).items()\n",
    "    jsonFile.close()\n",
    "    \n",
    "    #prepare output\n",
    "    if len(outDir)==0    : outDir='./'\n",
    "    os.system('mkdir -p ' + outDir)\n",
    "    \n",
    "    #create the analysis jobs\n",
    "    taskList = []\n",
    "    for sample, sampleInfo in samplesList: \n",
    "        inFileURL  = 'root://cmseos.fnal.gov//%s/%s.root' % (inDir,sample)\n",
    "        #if not os.path.isfile(inFileURL): continue\n",
    "        xsec = sampleInfo[0] if sampleInfo[1] == 0 else None        \n",
    "        outFileURL = '%s/%s.root' % (outDir,sample)\n",
    "        taskList.append( (inFileURL, outFileURL, histos, xsec) )\n",
    "\n",
    "        #run the analysis jobs\n",
    "    if njobs == 0:\n",
    "        for inFileURL, outFileURL, histos, xsec in taskList:\n",
    "            runBJetEnergyPeak(inFileURL  = inFileURL,\n",
    "                              outFileURL = outFileURL, \n",
    "                              histos     = histos,\n",
    "                              xsec       = xsec)\n",
    "    else:\n",
    "        from multiprocessing import Pool\n",
    "        pool = Pool(njobs)\n",
    "        pool.map(runBJetEnergyPeakPacked,taskList)    \n",
    "\n",
    "    print('Analysis results are available in ' + outDir)\n",
    "    \n",
    "\n",
    "    "
   ]
  },
  {
   "cell_type": "markdown",
   "id": "72a94647",
   "metadata": {},
   "source": [
    "Cell for running"
   ]
  },
  {
   "cell_type": "code",
   "execution_count": 14,
   "id": "c0938b61",
   "metadata": {},
   "outputs": [
    {
     "name": "stdout",
     "output_type": "stream",
     "text": [
      "...analysing root://cmseos.fnal.gov///store/user/cmsdas/2022/long_exercises/TopMass/TTJets.root...analysing root://cmseos.fnal.gov///store/user/cmsdas/2022/long_exercises/TopMass/WW.root...analysing root://cmseos.fnal.gov///store/user/cmsdas/2022/long_exercises/TopMass/WJets.root\n",
      "\n",
      "\n",
      "...analysing root://cmseos.fnal.gov///store/user/cmsdas/2022/long_exercises/TopMass/atW.root\n",
      " [ 0/100 ] done...analysing root://cmseos.fnal.gov///store/user/cmsdas/2022/long_exercises/TopMass/tW.root\n",
      " [ 62/100 ] done...analysing root://cmseos.fnal.gov///store/user/cmsdas/2022/long_exercises/TopMass/DY.root\n",
      " [ 2/100 ] donee...analysing root://cmseos.fnal.gov///store/user/cmsdas/2022/long_exercises/TopMass/MuonEG_2016B.root\n",
      " [ 93/100 ] done...analysing root://cmseos.fnal.gov///store/user/cmsdas/2022/long_exercises/TopMass/MuonEG_2016C.root\n",
      " [ 3/100 ] donee...analysing root://cmseos.fnal.gov///store/user/cmsdas/2022/long_exercises/TopMass/MuonEG_2016D.root\n",
      " [ 76/100 ] done...analysing root://cmseos.fnal.gov///store/user/cmsdas/2022/long_exercises/TopMass/MuonEG_2016E.root\n",
      " [ 7/100 ] donee...analysing root://cmseos.fnal.gov///store/user/cmsdas/2022/long_exercises/TopMass/MuonEG_2016F.root\n",
      " [ 92/100 ] done...analysing root://cmseos.fnal.gov///store/user/cmsdas/2022/long_exercises/TopMass/MuonEG_2016G.root\n",
      " [ 6/100 ] donee...analysing root://cmseos.fnal.gov///store/user/cmsdas/2022/long_exercises/TopMass/MuonEG_2016Hv2.root\n",
      " [ 22/100 ] done...analysing root://cmseos.fnal.gov///store/user/cmsdas/2022/long_exercises/TopMass/MuonEG_2016Hv3.root\n",
      " [ 14/100 ] done"
     ]
    },
    {
     "name": "stderr",
     "output_type": "stream",
     "text": [
      "IOPub message rate exceeded.\n",
      "The notebook server will temporarily stop sending output\n",
      "to the client in order to avoid crashing it.\n",
      "To change this limit, set the config variable\n",
      "`--NotebookApp.iopub_msg_rate_limit`.\n",
      "\n",
      "Current values:\n",
      "NotebookApp.iopub_msg_rate_limit=1000.0 (msgs/sec)\n",
      "NotebookApp.rate_limit_window=3.0 (secs)\n",
      "\n"
     ]
    },
    {
     "name": "stdout",
     "output_type": "stream",
     "text": [
      " [ 99/100 ] doneAnalysis results are available in test\n"
     ]
    }
   ],
   "source": [
    "inDir  = '/store/user/cmsdas/2022/long_exercises/TopMass' \n",
    "json   = 'data/samples_Run2016_25ns.json' \n",
    "outDir = 'test' \n",
    "njobs  = 4\n",
    "\n",
    "main(histos, json, inDir, outDir, njobs)"
   ]
  },
  {
   "cell_type": "code",
   "execution_count": null,
   "id": "7f449e47",
   "metadata": {},
   "outputs": [],
   "source": []
  },
  {
   "cell_type": "code",
   "execution_count": null,
   "id": "9aa992b9",
   "metadata": {},
   "outputs": [],
   "source": []
  }
 ],
 "metadata": {
  "kernelspec": {
   "display_name": "Python 3 (ipykernel)",
   "language": "python",
   "name": "python3"
  },
  "language_info": {
   "codemirror_mode": {
    "name": "ipython",
    "version": 3
   },
   "file_extension": ".py",
   "mimetype": "text/x-python",
   "name": "python",
   "nbconvert_exporter": "python",
   "pygments_lexer": "ipython3",
   "version": "3.9.9"
  }
 },
 "nbformat": 4,
 "nbformat_minor": 5
}
